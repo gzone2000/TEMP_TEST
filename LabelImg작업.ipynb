{
 "cells": [
  {
   "cell_type": "markdown",
   "id": "c45c38bc",
   "metadata": {},
   "source": [
    "# 개 동영상 읽고, 눈과 코 탐지하기 위한 박스와 라벨링"
   ]
  },
  {
   "cell_type": "markdown",
   "id": "0e570e1e",
   "metadata": {},
   "source": [
    "## 1. 개 동영상 읽고 10 프레임마다 캡쳐하기"
   ]
  },
  {
   "cell_type": "code",
   "execution_count": 3,
   "id": "17cbac1b",
   "metadata": {},
   "outputs": [],
   "source": [
    "!mkdir img"
   ]
  },
  {
   "cell_type": "code",
   "execution_count": 4,
   "id": "fdc30bb9",
   "metadata": {},
   "outputs": [
    {
     "name": "stdout",
     "output_type": "stream",
     "text": [
      "Saved frame number : 10\n",
      "Saved frame0.jpg\n",
      "Saved frame number : 20\n",
      "Saved frame1.jpg\n",
      "Saved frame number : 30\n",
      "Saved frame2.jpg\n",
      "Saved frame number : 40\n",
      "Saved frame3.jpg\n",
      "Saved frame number : 50\n",
      "Saved frame4.jpg\n",
      "Saved frame number : 60\n",
      "Saved frame5.jpg\n",
      "Saved frame number : 70\n",
      "Saved frame6.jpg\n",
      "Saved frame number : 80\n",
      "Saved frame7.jpg\n",
      "Saved frame number : 90\n",
      "Saved frame8.jpg\n",
      "Saved frame number : 100\n",
      "Saved frame9.jpg\n",
      "Saved frame number : 110\n",
      "Saved frame10.jpg\n",
      "Saved frame number : 120\n",
      "Saved frame11.jpg\n",
      "Saved frame number : 130\n",
      "Saved frame12.jpg\n",
      "Saved frame number : 140\n",
      "Saved frame13.jpg\n",
      "Saved frame number : 150\n",
      "Saved frame14.jpg\n",
      "Saved frame number : 160\n",
      "Saved frame15.jpg\n",
      "Saved frame number : 170\n",
      "Saved frame16.jpg\n",
      "Saved frame number : 180\n",
      "Saved frame17.jpg\n",
      "Saved frame number : 190\n",
      "Saved frame18.jpg\n",
      "Saved frame number : 200\n",
      "Saved frame19.jpg\n",
      "Saved frame number : 210\n",
      "Saved frame20.jpg\n",
      "Saved frame number : 220\n",
      "Saved frame21.jpg\n",
      "Saved frame number : 230\n",
      "Saved frame22.jpg\n",
      "Saved frame number : 240\n",
      "Saved frame23.jpg\n",
      "Saved frame number : 250\n",
      "Saved frame24.jpg\n",
      "Saved frame number : 260\n",
      "Saved frame25.jpg\n",
      "Saved frame number : 270\n",
      "Saved frame26.jpg\n",
      "Saved frame number : 280\n",
      "Saved frame27.jpg\n",
      "Saved frame number : 290\n",
      "Saved frame28.jpg\n",
      "Saved frame number : 300\n",
      "Saved frame29.jpg\n",
      "Saved frame number : 310\n",
      "Saved frame30.jpg\n",
      "Saved frame number : 320\n",
      "Saved frame31.jpg\n",
      "Saved frame number : 330\n",
      "Saved frame32.jpg\n",
      "Saved frame number : 340\n",
      "Saved frame33.jpg\n"
     ]
    }
   ],
   "source": [
    "import cv2\n",
    "vidcap = cv2.VideoCapture('./dog_video1.mp4')\n",
    " \n",
    "count = 0\n",
    " \n",
    "while(vidcap.isOpened()):\n",
    "    ret, image = vidcap.read()\n",
    "\n",
    "    if ret :\n",
    "        if(int(vidcap.get(1)) % 10 == 0):\n",
    "            print('Saved frame number : ' + str(int(vidcap.get(1))))\n",
    "            cv2.imwrite(\"./img/cat_%d.jpg\" % count, image)\n",
    "            print('Saved frame%d.jpg' % count)\n",
    "            count += 1\n",
    "    else :\n",
    "        break \n",
    "        \n",
    "vidcap.release()\n"
   ]
  },
  {
   "cell_type": "markdown",
   "id": "e30a6952",
   "metadata": {},
   "source": [
    "## 2.LabelImg 활용하여 box와 라벨 달기"
   ]
  },
  {
   "cell_type": "code",
   "execution_count": 5,
   "id": "5b47ef99",
   "metadata": {},
   "outputs": [
    {
     "name": "stdout",
     "output_type": "stream",
     "text": [
      "Requirement already satisfied: labelImg in c:\\anaconda3\\lib\\site-packages (1.8.6)"
     ]
    },
    {
     "name": "stderr",
     "output_type": "stream",
     "text": [
      "WARNING: Ignoring invalid distribution -pencv-python-headless (c:\\anaconda3\\lib\\site-packages)\n",
      "WARNING: Ignoring invalid distribution -pencv-python-headless (c:\\anaconda3\\lib\\site-packages)\n",
      "WARNING: Ignoring invalid distribution -pencv-python-headless (c:\\anaconda3\\lib\\site-packages)\n",
      "WARNING: Ignoring invalid distribution -pencv-python-headless (c:\\anaconda3\\lib\\site-packages)\n",
      "WARNING: Ignoring invalid distribution -pencv-python-headless (c:\\anaconda3\\lib\\site-packages)\n",
      "WARNING: Ignoring invalid distribution -pencv-python-headless (c:\\anaconda3\\lib\\site-packages)\n"
     ]
    },
    {
     "name": "stdout",
     "output_type": "stream",
     "text": [
      "\n",
      "Requirement already satisfied: lxml in c:\\anaconda3\\lib\\site-packages (from labelImg) (4.6.3)\n",
      "Requirement already satisfied: pyqt5 in c:\\anaconda3\\lib\\site-packages (from labelImg) (5.15.6)\n",
      "Requirement already satisfied: PyQt5-sip<13,>=12.8 in c:\\anaconda3\\lib\\site-packages (from pyqt5->labelImg) (12.10.1)\n",
      "Requirement already satisfied: PyQt5-Qt5>=5.15.2 in c:\\anaconda3\\lib\\site-packages (from pyqt5->labelImg) (5.15.2)\n"
     ]
    },
    {
     "name": "stderr",
     "output_type": "stream",
     "text": [
      "Traceback (most recent call last):\n",
      "  File \"C:\\anaconda3\\lib\\site-packages\\labelImg\\labelImg.py\", line 1275, in open_dir_dialog\n",
      "    if not self.may_continue():\n",
      "  File \"C:\\anaconda3\\lib\\site-packages\\labelImg\\labelImg.py\", line 1468, in may_continue\n",
      "    self.save_file()\n",
      "  File \"C:\\anaconda3\\lib\\site-packages\\labelImg\\labelImg.py\", line 1400, in save_file\n",
      "    image_file_dir = os.path.dirname(self.file_path)\n",
      "  File \"C:\\anaconda3\\lib\\ntpath.py\", line 223, in dirname\n",
      "    return split(p)[0]\n",
      "  File \"C:\\anaconda3\\lib\\ntpath.py\", line 185, in split\n",
      "    p = os.fspath(p)\n",
      "TypeError: expected str, bytes or os.PathLike object, not NoneType\n"
     ]
    }
   ],
   "source": [
    "!pip3 install labelImg"
   ]
  },
  {
   "cell_type": "code",
   "execution_count": null,
   "id": "0d850466",
   "metadata": {},
   "outputs": [],
   "source": [
    "!labelImg"
   ]
  },
  {
   "cell_type": "code",
   "execution_count": null,
   "id": "9991e165",
   "metadata": {},
   "outputs": [],
   "source": []
  }
 ],
 "metadata": {
  "kernelspec": {
   "display_name": "Python 3 (ipykernel)",
   "language": "python",
   "name": "python3"
  },
  "language_info": {
   "codemirror_mode": {
    "name": "ipython",
    "version": 3
   },
   "file_extension": ".py",
   "mimetype": "text/x-python",
   "name": "python",
   "nbconvert_exporter": "python",
   "pygments_lexer": "ipython3",
   "version": "3.9.7"
  }
 },
 "nbformat": 4,
 "nbformat_minor": 5
}
